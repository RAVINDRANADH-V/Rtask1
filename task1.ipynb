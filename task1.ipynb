{
  "nbformat": 4,
  "nbformat_minor": 0,
  "metadata": {
    "colab": {
      "provenance": []
    },
    "kernelspec": {
      "name": "python3",
      "display_name": "Python 3"
    },
    "language_info": {
      "name": "python"
    }
  },
  "cells": [
    {
      "cell_type": "code",
      "execution_count": 1,
      "metadata": {
        "id": "C31RYbK3l_-Y"
      },
      "outputs": [],
      "source": [
        "import os\n",
        "import numpy as np\n",
        "import pandas as pd\n",
        "import matplotlib.pyplot as plt\n",
        "from keras.models import Sequential\n",
        "from keras.layers import Dense\n",
        "from keras.layers import LSTM\n",
        "from keras.layers import Dropout\n",
        "from sklearn.preprocessing import MinMaxScaler"
      ]
    },
    {
      "cell_type": "code",
      "source": [
        "dataset=pd.read_csv('NFLX.csv')\n"
      ],
      "metadata": {
        "id": "vl1yAwMfmWxF"
      },
      "execution_count": 3,
      "outputs": []
    },
    {
      "cell_type": "code",
      "source": [
        "\n",
        "dataset_train=dataset.iloc[-1000:-100]\n",
        "dataset_test=dataset.iloc[-100:]\n",
        "print(dataset_train.columns.tolist())\n",
        "print(dataset_test.columns.tolist())"
      ],
      "metadata": {
        "colab": {
          "base_uri": "https://localhost:8080/"
        },
        "id": "lC8EosWkmgXu",
        "outputId": "1c61c616-9296-4d5b-9882-783508a95c6e"
      },
      "execution_count": 4,
      "outputs": [
        {
          "output_type": "stream",
          "name": "stdout",
          "text": [
            "['Date', 'Open', 'High', 'Low', 'Close', 'Adj Close', 'Volume']\n",
            "['Date', 'Open', 'High', 'Low', 'Close', 'Adj Close', 'Volume']\n"
          ]
        }
      ]
    },
    {
      "cell_type": "code",
      "source": [
        "trainset = dataset_train.iloc[:,1:2].values #Open\n",
        "display(trainset[0:5])\n",
        ""
      ],
      "metadata": {
        "colab": {
          "base_uri": "https://localhost:8080/",
          "height": 104
        },
        "id": "I3gZ-2awmieo",
        "outputId": "e585319f-40a2-47d6-8e91-d006dee1b51d"
      },
      "execution_count": 5,
      "outputs": [
        {
          "output_type": "display_data",
          "data": {
            "text/plain": [
              "array([[278.730011],\n",
              "       [277.73999 ],\n",
              "       [282.070007],\n",
              "       [283.880005],\n",
              "       [281.      ]])"
            ]
          },
          "metadata": {}
        }
      ]
    },
    {
      "cell_type": "code",
      "source": [
        "sc = MinMaxScaler(feature_range = (0,1))\n",
        "training_scaled = sc.fit_transform(trainset)\n",
        "print(training_scaled[0:5])\n",
        "print(len(training_scaled))"
      ],
      "metadata": {
        "colab": {
          "base_uri": "https://localhost:8080/"
        },
        "id": "qXhWaGZEmtQv",
        "outputId": "4f335663-3cda-4bc8-8ea3-7f722d49f74d"
      },
      "execution_count": 6,
      "outputs": [
        {
          "output_type": "stream",
          "name": "stdout",
          "text": [
            "[[0.1202792 ]\n",
            " [0.11762178]\n",
            " [0.12924443]\n",
            " [0.13410283]\n",
            " [0.12637231]]\n",
            "900\n"
          ]
        }
      ]
    },
    {
      "cell_type": "code",
      "source": [
        "\n",
        "x_train = []\n",
        "y_train = []"
      ],
      "metadata": {
        "id": "r9PSlDRvmx8u"
      },
      "execution_count": 7,
      "outputs": []
    },
    {
      "cell_type": "code",
      "source": [
        "\n",
        "for i in range(60,len(training_scaled)):\n",
        "    x_train.append(training_scaled[i-60:i, 0])\n",
        "    y_train.append(training_scaled[i,0])\n",
        "x_train,y_train = np.array(x_train),np.array(y_train)\n",
        "print(x_train.shape,y_train.shape)\n"
      ],
      "metadata": {
        "colab": {
          "base_uri": "https://localhost:8080/"
        },
        "id": "CAfTPZBpm0-F",
        "outputId": "ec26df26-3342-4197-ae28-7d83cef689e9"
      },
      "execution_count": 8,
      "outputs": [
        {
          "output_type": "stream",
          "name": "stdout",
          "text": [
            "(840, 60) (840,)\n"
          ]
        }
      ]
    },
    {
      "cell_type": "code",
      "source": [
        "\n",
        "x_train = np.reshape(x_train, (x_train.shape[0],x_train.shape[1],1))\n",
        "print('(samples, time steps, features) =',x_train.shape)"
      ],
      "metadata": {
        "colab": {
          "base_uri": "https://localhost:8080/"
        },
        "id": "WZClq_9sm9tU",
        "outputId": "16c42f15-f0aa-4055-eb13-3247bb2596c4"
      },
      "execution_count": 9,
      "outputs": [
        {
          "output_type": "stream",
          "name": "stdout",
          "text": [
            "(samples, time steps, features) = (840, 60, 1)\n"
          ]
        }
      ]
    },
    {
      "cell_type": "code",
      "source": [
        "regressor = Sequential()\n",
        "regressor.add(LSTM(units = 50,return_sequences = True,input_shape = (x_train.shape[1],1)))\n",
        "regressor.add(Dropout(0.2))\n",
        "regressor.add(LSTM(units = 50,return_sequences = True))\n",
        "regressor.add(Dropout(0.2))\n",
        "regressor.add(LSTM(units = 50,return_sequences = True))\n",
        "regressor.add(Dropout(0.2))\n",
        "regressor.add(LSTM(units = 50))\n",
        "regressor.add(Dropout(0.2))\n",
        "regressor.add(Dense(units = 1))\n"
      ],
      "metadata": {
        "id": "ua5wePfYnDif"
      },
      "execution_count": 10,
      "outputs": []
    },
    {
      "cell_type": "code",
      "source": [
        "regressor.compile(optimizer = 'adam',loss = 'mean_squared_error')\n",
        "\n",
        "regressor.fit(x_train,y_train,epochs =100, batch_size = 32)"
      ],
      "metadata": {
        "colab": {
          "base_uri": "https://localhost:8080/"
        },
        "id": "Kaw0ScUCnInT",
        "outputId": "111378ea-bf3d-46d8-db64-0f3103495e31"
      },
      "execution_count": 11,
      "outputs": [
        {
          "output_type": "stream",
          "name": "stdout",
          "text": [
            "Epoch 1/100\n",
            "27/27 [==============================] - 12s 106ms/step - loss: 0.0566\n",
            "Epoch 2/100\n",
            "27/27 [==============================] - 3s 111ms/step - loss: 0.0113\n",
            "Epoch 3/100\n",
            "27/27 [==============================] - 4s 143ms/step - loss: 0.0085\n",
            "Epoch 4/100\n",
            "27/27 [==============================] - 3s 105ms/step - loss: 0.0082\n",
            "Epoch 5/100\n",
            "27/27 [==============================] - 3s 109ms/step - loss: 0.0083\n",
            "Epoch 6/100\n",
            "27/27 [==============================] - 3s 108ms/step - loss: 0.0090\n",
            "Epoch 7/100\n",
            "27/27 [==============================] - 4s 142ms/step - loss: 0.0090\n",
            "Epoch 8/100\n",
            "27/27 [==============================] - 3s 109ms/step - loss: 0.0073\n",
            "Epoch 9/100\n",
            "27/27 [==============================] - 3s 106ms/step - loss: 0.0071\n",
            "Epoch 10/100\n",
            "27/27 [==============================] - 3s 109ms/step - loss: 0.0067\n",
            "Epoch 11/100\n",
            "27/27 [==============================] - 4s 143ms/step - loss: 0.0073\n",
            "Epoch 12/100\n",
            "27/27 [==============================] - 3s 115ms/step - loss: 0.0067\n",
            "Epoch 13/100\n",
            "27/27 [==============================] - 3s 108ms/step - loss: 0.0068\n",
            "Epoch 14/100\n",
            "27/27 [==============================] - 3s 108ms/step - loss: 0.0067\n",
            "Epoch 15/100\n",
            "27/27 [==============================] - 4s 148ms/step - loss: 0.0068\n",
            "Epoch 16/100\n",
            "27/27 [==============================] - 3s 110ms/step - loss: 0.0069\n",
            "Epoch 17/100\n",
            "27/27 [==============================] - 3s 106ms/step - loss: 0.0069\n",
            "Epoch 18/100\n",
            "27/27 [==============================] - 3s 109ms/step - loss: 0.0065\n",
            "Epoch 19/100\n",
            "27/27 [==============================] - 4s 142ms/step - loss: 0.0056\n",
            "Epoch 20/100\n",
            "27/27 [==============================] - 3s 115ms/step - loss: 0.0059\n",
            "Epoch 21/100\n",
            "27/27 [==============================] - 3s 110ms/step - loss: 0.0057\n",
            "Epoch 22/100\n",
            "27/27 [==============================] - 3s 107ms/step - loss: 0.0050\n",
            "Epoch 23/100\n",
            "27/27 [==============================] - 4s 150ms/step - loss: 0.0058\n",
            "Epoch 24/100\n",
            "27/27 [==============================] - 3s 106ms/step - loss: 0.0053\n",
            "Epoch 25/100\n",
            "27/27 [==============================] - 3s 108ms/step - loss: 0.0053\n",
            "Epoch 26/100\n",
            "27/27 [==============================] - 3s 109ms/step - loss: 0.0050\n",
            "Epoch 27/100\n",
            "27/27 [==============================] - 4s 147ms/step - loss: 0.0050\n",
            "Epoch 28/100\n",
            "27/27 [==============================] - 3s 107ms/step - loss: 0.0052\n",
            "Epoch 29/100\n",
            "27/27 [==============================] - 3s 108ms/step - loss: 0.0051\n",
            "Epoch 30/100\n",
            "27/27 [==============================] - 3s 111ms/step - loss: 0.0050\n",
            "Epoch 31/100\n",
            "27/27 [==============================] - 4s 149ms/step - loss: 0.0051\n",
            "Epoch 32/100\n",
            "27/27 [==============================] - 3s 107ms/step - loss: 0.0048\n",
            "Epoch 33/100\n",
            "27/27 [==============================] - 3s 108ms/step - loss: 0.0043\n",
            "Epoch 34/100\n",
            "27/27 [==============================] - 3s 112ms/step - loss: 0.0046\n",
            "Epoch 35/100\n",
            "27/27 [==============================] - 4s 152ms/step - loss: 0.0044\n",
            "Epoch 36/100\n",
            "27/27 [==============================] - 3s 109ms/step - loss: 0.0044\n",
            "Epoch 37/100\n",
            "27/27 [==============================] - 3s 107ms/step - loss: 0.0044\n",
            "Epoch 38/100\n",
            "27/27 [==============================] - 3s 107ms/step - loss: 0.0045\n",
            "Epoch 39/100\n",
            "27/27 [==============================] - 4s 156ms/step - loss: 0.0043\n",
            "Epoch 40/100\n",
            "27/27 [==============================] - 3s 110ms/step - loss: 0.0044\n",
            "Epoch 41/100\n",
            "27/27 [==============================] - 3s 107ms/step - loss: 0.0039\n",
            "Epoch 42/100\n",
            "27/27 [==============================] - 3s 110ms/step - loss: 0.0039\n",
            "Epoch 43/100\n",
            "27/27 [==============================] - 4s 151ms/step - loss: 0.0038\n",
            "Epoch 44/100\n",
            "27/27 [==============================] - 3s 107ms/step - loss: 0.0045\n",
            "Epoch 45/100\n",
            "27/27 [==============================] - 3s 108ms/step - loss: 0.0038\n",
            "Epoch 46/100\n",
            "27/27 [==============================] - 3s 108ms/step - loss: 0.0038\n",
            "Epoch 47/100\n",
            "27/27 [==============================] - 4s 150ms/step - loss: 0.0040\n",
            "Epoch 48/100\n",
            "27/27 [==============================] - 3s 113ms/step - loss: 0.0042\n",
            "Epoch 49/100\n",
            "27/27 [==============================] - 3s 108ms/step - loss: 0.0036\n",
            "Epoch 50/100\n",
            "27/27 [==============================] - 3s 107ms/step - loss: 0.0039\n",
            "Epoch 51/100\n",
            "27/27 [==============================] - 4s 150ms/step - loss: 0.0037\n",
            "Epoch 52/100\n",
            "27/27 [==============================] - 3s 107ms/step - loss: 0.0036\n",
            "Epoch 53/100\n",
            "27/27 [==============================] - 3s 112ms/step - loss: 0.0035\n",
            "Epoch 54/100\n",
            "27/27 [==============================] - 3s 108ms/step - loss: 0.0034\n",
            "Epoch 55/100\n",
            "27/27 [==============================] - 4s 151ms/step - loss: 0.0035\n",
            "Epoch 56/100\n",
            "27/27 [==============================] - 3s 108ms/step - loss: 0.0034\n",
            "Epoch 57/100\n",
            "27/27 [==============================] - 3s 107ms/step - loss: 0.0032\n",
            "Epoch 58/100\n",
            "27/27 [==============================] - 3s 109ms/step - loss: 0.0035\n",
            "Epoch 59/100\n",
            "27/27 [==============================] - 4s 150ms/step - loss: 0.0035\n",
            "Epoch 60/100\n",
            "27/27 [==============================] - 3s 111ms/step - loss: 0.0033\n",
            "Epoch 61/100\n",
            "27/27 [==============================] - 3s 109ms/step - loss: 0.0035\n",
            "Epoch 62/100\n",
            "27/27 [==============================] - 3s 109ms/step - loss: 0.0032\n",
            "Epoch 63/100\n",
            "27/27 [==============================] - 4s 150ms/step - loss: 0.0029\n",
            "Epoch 64/100\n",
            "27/27 [==============================] - 3s 108ms/step - loss: 0.0034\n",
            "Epoch 65/100\n",
            "27/27 [==============================] - 3s 113ms/step - loss: 0.0033\n",
            "Epoch 66/100\n",
            "27/27 [==============================] - 3s 109ms/step - loss: 0.0031\n",
            "Epoch 67/100\n",
            "27/27 [==============================] - 4s 154ms/step - loss: 0.0028\n",
            "Epoch 68/100\n",
            "27/27 [==============================] - 3s 113ms/step - loss: 0.0029\n",
            "Epoch 69/100\n",
            "27/27 [==============================] - 3s 108ms/step - loss: 0.0028\n",
            "Epoch 70/100\n",
            "27/27 [==============================] - 3s 108ms/step - loss: 0.0028\n",
            "Epoch 71/100\n",
            "27/27 [==============================] - 4s 152ms/step - loss: 0.0028\n",
            "Epoch 72/100\n",
            "27/27 [==============================] - 3s 108ms/step - loss: 0.0030\n",
            "Epoch 73/100\n",
            "27/27 [==============================] - 3s 108ms/step - loss: 0.0029\n",
            "Epoch 74/100\n",
            "27/27 [==============================] - 3s 110ms/step - loss: 0.0028\n",
            "Epoch 75/100\n",
            "27/27 [==============================] - 4s 148ms/step - loss: 0.0029\n",
            "Epoch 76/100\n",
            "27/27 [==============================] - 3s 109ms/step - loss: 0.0029\n",
            "Epoch 77/100\n",
            "27/27 [==============================] - 3s 107ms/step - loss: 0.0026\n",
            "Epoch 78/100\n",
            "27/27 [==============================] - 3s 112ms/step - loss: 0.0024\n",
            "Epoch 79/100\n",
            "27/27 [==============================] - 4s 143ms/step - loss: 0.0026\n",
            "Epoch 80/100\n",
            "27/27 [==============================] - 3s 109ms/step - loss: 0.0023\n",
            "Epoch 81/100\n",
            "27/27 [==============================] - 3s 111ms/step - loss: 0.0023\n",
            "Epoch 82/100\n",
            "27/27 [==============================] - 3s 113ms/step - loss: 0.0024\n",
            "Epoch 83/100\n",
            "27/27 [==============================] - 4s 141ms/step - loss: 0.0025\n",
            "Epoch 84/100\n",
            "27/27 [==============================] - 3s 107ms/step - loss: 0.0024\n",
            "Epoch 85/100\n",
            "27/27 [==============================] - 3s 111ms/step - loss: 0.0026\n",
            "Epoch 86/100\n",
            "27/27 [==============================] - 3s 114ms/step - loss: 0.0025\n",
            "Epoch 87/100\n",
            "27/27 [==============================] - 4s 141ms/step - loss: 0.0025\n",
            "Epoch 88/100\n",
            "27/27 [==============================] - 3s 110ms/step - loss: 0.0024\n",
            "Epoch 89/100\n",
            "27/27 [==============================] - 3s 108ms/step - loss: 0.0023\n",
            "Epoch 90/100\n",
            "27/27 [==============================] - 3s 117ms/step - loss: 0.0021\n",
            "Epoch 91/100\n",
            "27/27 [==============================] - 4s 138ms/step - loss: 0.0023\n",
            "Epoch 92/100\n",
            "27/27 [==============================] - 3s 113ms/step - loss: 0.0024\n",
            "Epoch 93/100\n",
            "27/27 [==============================] - 3s 108ms/step - loss: 0.0022\n",
            "Epoch 94/100\n",
            "27/27 [==============================] - 3s 117ms/step - loss: 0.0024\n",
            "Epoch 95/100\n",
            "27/27 [==============================] - 4s 143ms/step - loss: 0.0022\n",
            "Epoch 96/100\n",
            "27/27 [==============================] - 3s 108ms/step - loss: 0.0023\n",
            "Epoch 97/100\n",
            "27/27 [==============================] - 3s 108ms/step - loss: 0.0028\n",
            "Epoch 98/100\n",
            "27/27 [==============================] - 3s 119ms/step - loss: 0.0023\n",
            "Epoch 99/100\n",
            "27/27 [==============================] - 4s 135ms/step - loss: 0.0020\n",
            "Epoch 100/100\n",
            "27/27 [==============================] - 3s 105ms/step - loss: 0.0022\n"
          ]
        },
        {
          "output_type": "execute_result",
          "data": {
            "text/plain": [
              "<keras.src.callbacks.History at 0x7f16407e3550>"
            ]
          },
          "metadata": {},
          "execution_count": 11
        }
      ]
    },
    {
      "cell_type": "code",
      "source": [
        "\n",
        "real_stock_price = dataset_test.iloc[:,1:2].values\n",
        "dataset_total = pd.concat((dataset_train['Open'],dataset_test['Open']),axis = 0)"
      ],
      "metadata": {
        "id": "MDgdWHZFo2QD"
      },
      "execution_count": 12,
      "outputs": []
    },
    {
      "cell_type": "code",
      "source": [
        "print(len(dataset_total),len(dataset_test))\n",
        "inputs = dataset_total[len(dataset_total)-len(dataset_test)-60:].values\n",
        "print(inputs.shape)"
      ],
      "metadata": {
        "colab": {
          "base_uri": "https://localhost:8080/"
        },
        "id": "7hmiEfsApAWA",
        "outputId": "a34cdac4-362f-49a2-c525-bc5a539a2045"
      },
      "execution_count": 13,
      "outputs": [
        {
          "output_type": "stream",
          "name": "stdout",
          "text": [
            "1000 100\n",
            "(160,)\n"
          ]
        }
      ]
    },
    {
      "cell_type": "code",
      "source": [
        "inputs = inputs.reshape(-1,1)\n",
        "print(inputs.shape)\n",
        "\n",
        "#sc = MinMaxScaler(feature_range = (0,1))\n",
        "inputs = sc.transform(inputs)\n",
        "print(inputs.shape)\n",
        ""
      ],
      "metadata": {
        "colab": {
          "base_uri": "https://localhost:8080/"
        },
        "id": "6kK78fAlpFk5",
        "outputId": "a0b05d30-3bad-4482-c13b-465c953f87a0"
      },
      "execution_count": 14,
      "outputs": [
        {
          "output_type": "stream",
          "name": "stdout",
          "text": [
            "(160, 1)\n",
            "(160, 1)\n"
          ]
        }
      ]
    },
    {
      "cell_type": "code",
      "source": [
        "x_test = []\n",
        "for i in range(60,len(inputs)):\n",
        "    x_test.append(inputs[i-60:i,0])\n",
        "x_test = np.array(x_test)\n",
        "print(x_test.shape)\n",
        "\n",
        "x_test = np.reshape(x_test, (x_test.shape[0],x_test.shape[1],1))\n",
        "print(x_test.shape)"
      ],
      "metadata": {
        "colab": {
          "base_uri": "https://localhost:8080/"
        },
        "id": "hBfbtP3SpI1u",
        "outputId": "c3be222c-9b70-4894-e699-a31e1fe2d89f"
      },
      "execution_count": 15,
      "outputs": [
        {
          "output_type": "stream",
          "name": "stdout",
          "text": [
            "(100, 60)\n",
            "(100, 60, 1)\n"
          ]
        }
      ]
    },
    {
      "cell_type": "code",
      "source": [
        "predicted_price = regressor.predict(x_test)"
      ],
      "metadata": {
        "colab": {
          "base_uri": "https://localhost:8080/"
        },
        "id": "Tga6nOmGpXAo",
        "outputId": "42a075e2-f032-4ff0-9f97-61221921b843"
      },
      "execution_count": 16,
      "outputs": [
        {
          "output_type": "stream",
          "name": "stdout",
          "text": [
            "4/4 [==============================] - 2s 30ms/step\n"
          ]
        }
      ]
    },
    {
      "cell_type": "code",
      "source": [
        "\n",
        "predicted_price = sc.inverse_transform(predicted_price)\n",
        "print(predicted_price.shape)"
      ],
      "metadata": {
        "colab": {
          "base_uri": "https://localhost:8080/"
        },
        "id": "9hmX24LOpagq",
        "outputId": "ff5002c7-4766-4861-a7fb-dd7465bc7f1c"
      },
      "execution_count": 17,
      "outputs": [
        {
          "output_type": "stream",
          "name": "stdout",
          "text": [
            "(100, 1)\n"
          ]
        }
      ]
    },
    {
      "cell_type": "code",
      "source": [
        "\n",
        "\n",
        "plt.plot(real_stock_price,color = 'red', label = 'Real Price')\n",
        "plt.plot(predicted_price, color = 'blue', label = 'Predicted Price')\n",
        "plt.title('NFLX Stock Price Prediction')\n",
        "plt.xlabel('Time')\n",
        "plt.ylabel('NFLX Stock Price')\n",
        "plt.xlim(0,100)\n",
        "plt.ylim(0,1200)\n",
        "plt.legend()\n",
        "plt.show()"
      ],
      "metadata": {
        "colab": {
          "base_uri": "https://localhost:8080/",
          "height": 472
        },
        "id": "gwTX9n6xpmhf",
        "outputId": "bfc63ddd-b48f-4e93-a4df-67d5cca4776d"
      },
      "execution_count": 18,
      "outputs": [
        {
          "output_type": "display_data",
          "data": {
            "text/plain": [
              "<Figure size 640x480 with 1 Axes>"
            ],
            "image/png": "[encoded data removed]"
          },
          "metadata": {}
        }
      ]
    },
    {
      "cell_type": "code",
      "source": [
        "\n",
        "inputs = np.array(dataset_train['Open'][-60:])\n",
        "new_predicted_price=[]\n",
        "for i in range(100):\n",
        "    x = np.reshape(inputs, (1,60,1))\n",
        "    pred = regressor.predict(x)\n",
        "    inputs = np.append(inputs, pred)\n",
        "    inputs = inputs[1:]\n",
        "    new_predicted_price+=[pred.reshape(-1)]"
      ],
      "metadata": {
        "colab": {
          "base_uri": "https://localhost:8080/"
        },
        "id": "5KA1wcXjppFS",
        "outputId": "e9297210-37a0-4b92-e5e8-cb1b6e699074"
      },
      "execution_count": 19,
      "outputs": [
        {
          "output_type": "stream",
          "name": "stdout",
          "text": [
            "1/1 [==============================] - 0s 51ms/step\n",
            "1/1 [==============================] - 0s 49ms/step\n",
            "1/1 [==============================] - 0s 46ms/step\n",
            "1/1 [==============================] - 0s 48ms/step\n",
            "1/1 [==============================] - 0s 52ms/step\n",
            "1/1 [==============================] - 0s 46ms/step\n",
            "1/1 [==============================] - 0s 46ms/step\n",
            "1/1 [==============================] - 0s 53ms/step\n",
            "1/1 [==============================] - 0s 51ms/step\n",
            "1/1 [==============================] - 0s 46ms/step\n",
            "1/1 [==============================] - 0s 46ms/step\n",
            "1/1 [==============================] - 0s 45ms/step\n",
            "1/1 [==============================] - 0s 48ms/step\n",
            "1/1 [==============================] - 0s 50ms/step\n",
            "1/1 [==============================] - 0s 68ms/step\n",
            "1/1 [==============================] - 0s 47ms/step\n",
            "1/1 [==============================] - 0s 38ms/step\n",
            "1/1 [==============================] - 0s 32ms/step\n",
            "1/1 [==============================] - 0s 32ms/step\n",
            "1/1 [==============================] - 0s 35ms/step\n",
            "1/1 [==============================] - 0s 34ms/step\n",
            "1/1 [==============================] - 0s 35ms/step\n",
            "1/1 [==============================] - 0s 41ms/step\n",
            "1/1 [==============================] - 0s 32ms/step\n",
            "1/1 [==============================] - 0s 30ms/step\n",
            "1/1 [==============================] - 0s 33ms/step\n",
            "1/1 [==============================] - 0s 30ms/step\n",
            "1/1 [==============================] - 0s 31ms/step\n",
            "1/1 [==============================] - 0s 33ms/step\n",
            "1/1 [==============================] - 0s 29ms/step\n",
            "1/1 [==============================] - 0s 31ms/step\n",
            "1/1 [==============================] - 0s 30ms/step\n",
            "1/1 [==============================] - 0s 28ms/step\n",
            "1/1 [==============================] - 0s 29ms/step\n",
            "1/1 [==============================] - 0s 30ms/step\n",
            "1/1 [==============================] - 0s 32ms/step\n",
            "1/1 [==============================] - 0s 29ms/step\n",
            "1/1 [==============================] - 0s 30ms/step\n",
            "1/1 [==============================] - 0s 32ms/step\n",
            "1/1 [==============================] - 0s 29ms/step\n",
            "1/1 [==============================] - 0s 29ms/step\n",
            "1/1 [==============================] - 0s 29ms/step\n",
            "1/1 [==============================] - 0s 30ms/step\n",
            "1/1 [==============================] - 0s 33ms/step\n",
            "1/1 [==============================] - 0s 30ms/step\n",
            "1/1 [==============================] - 0s 30ms/step\n",
            "1/1 [==============================] - 0s 30ms/step\n",
            "1/1 [==============================] - 0s 28ms/step\n",
            "1/1 [==============================] - 0s 29ms/step\n",
            "1/1 [==============================] - 0s 30ms/step\n",
            "1/1 [==============================] - 0s 30ms/step\n",
            "1/1 [==============================] - 0s 29ms/step\n",
            "1/1 [==============================] - 0s 28ms/step\n",
            "1/1 [==============================] - 0s 29ms/step\n",
            "1/1 [==============================] - 0s 30ms/step\n",
            "1/1 [==============================] - 0s 31ms/step\n",
            "1/1 [==============================] - 0s 29ms/step\n",
            "1/1 [==============================] - 0s 30ms/step\n",
            "1/1 [==============================] - 0s 30ms/step\n",
            "1/1 [==============================] - 0s 36ms/step\n",
            "1/1 [==============================] - 0s 29ms/step\n",
            "1/1 [==============================] - 0s 31ms/step\n",
            "1/1 [==============================] - 0s 32ms/step\n",
            "1/1 [==============================] - 0s 29ms/step\n",
            "1/1 [==============================] - 0s 31ms/step\n",
            "1/1 [==============================] - 0s 30ms/step\n",
            "1/1 [==============================] - 0s 30ms/step\n",
            "1/1 [==============================] - 0s 33ms/step\n",
            "1/1 [==============================] - 0s 32ms/step\n",
            "1/1 [==============================] - 0s 30ms/step\n",
            "1/1 [==============================] - 0s 30ms/step\n",
            "1/1 [==============================] - 0s 29ms/step\n",
            "1/1 [==============================] - 0s 30ms/step\n",
            "1/1 [==============================] - 0s 30ms/step\n",
            "1/1 [==============================] - 0s 34ms/step\n",
            "1/1 [==============================] - 0s 31ms/step\n",
            "1/1 [==============================] - 0s 37ms/step\n",
            "1/1 [==============================] - 0s 32ms/step\n",
            "1/1 [==============================] - 0s 33ms/step\n",
            "1/1 [==============================] - 0s 29ms/step\n",
            "1/1 [==============================] - 0s 29ms/step\n",
            "1/1 [==============================] - 0s 33ms/step\n",
            "1/1 [==============================] - 0s 38ms/step\n",
            "1/1 [==============================] - 0s 41ms/step\n",
            "1/1 [==============================] - 0s 40ms/step\n",
            "1/1 [==============================] - 0s 32ms/step\n",
            "1/1 [==============================] - 0s 36ms/step\n",
            "1/1 [==============================] - 0s 32ms/step\n",
            "1/1 [==============================] - 0s 32ms/step\n",
            "1/1 [==============================] - 0s 30ms/step\n",
            "1/1 [==============================] - 0s 34ms/step\n",
            "1/1 [==============================] - 0s 31ms/step\n",
            "1/1 [==============================] - 0s 31ms/step\n",
            "1/1 [==============================] - 0s 31ms/step\n",
            "1/1 [==============================] - 0s 37ms/step\n",
            "1/1 [==============================] - 0s 34ms/step\n",
            "1/1 [==============================] - 0s 31ms/step\n",
            "1/1 [==============================] - 0s 35ms/step\n",
            "1/1 [==============================] - 0s 36ms/step\n",
            "1/1 [==============================] - 0s 33ms/step\n"
          ]
        }
      ]
    },
    {
      "cell_type": "code",
      "source": [
        "new_predicted_price = sc.inverse_transform(np.array(new_predicted_price))\n",
        "print(new_predicted_price.shape)\n",
        ""
      ],
      "metadata": {
        "colab": {
          "base_uri": "https://localhost:8080/"
        },
        "id": "bzXtcCM8pylN",
        "outputId": "ce9c72bc-1465-4ea3-cd7c-dff222e1bf4c"
      },
      "execution_count": 20,
      "outputs": [
        {
          "output_type": "stream",
          "name": "stdout",
          "text": [
            "(100, 1)\n"
          ]
        }
      ]
    },
    {
      "cell_type": "code",
      "source": [
        "plt.plot(real_stock_price,color = 'red', label = 'Real Price')\n",
        "plt.plot(new_predicted_price, color = 'green', label = 'New Predicted Price')\n",
        "plt.title('NFLX Stock Price Prediction')\n",
        "plt.xlabel('Time')\n",
        "plt.ylabel('NFLX Stock Price')\n",
        "plt.xlim(0,100)\n",
        "plt.ylim(0,1200)\n",
        "plt.legend()\n",
        "plt.show()\n",
        "\n"
      ],
      "metadata": {
        "colab": {
          "base_uri": "https://localhost:8080/",
          "height": 472
        },
        "id": "kkVUlqUDp4Ud",
        "outputId": "c451f2e3-5483-4212-81d7-c9082ecbacb9"
      },
      "execution_count": 21,
      "outputs": [
        {
          "output_type": "display_data",
          "data": {
            "text/plain": [
              "<Figure size 640x480 with 1 Axes>"
            ],
            "image/png": "[encoded data removed]"
          },
          "metadata": {}
        }
      ]
    }
  ]
}